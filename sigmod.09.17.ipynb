{
 "cells": [
  {
   "cell_type": "code",
   "execution_count": 2,
   "metadata": {
    "pycharm": {
     "is_executing": false
    }
   },
   "outputs": [],
   "source": [
    "import os\n",
    "from collections import Counter\n",
    "\n",
    "import pandas as pd\n",
    "import matplotlib\n",
    "import matplotlib.pyplot as plt\n",
    "import matplotlib.patches as mpatches\n",
    "import numpy as np\n",
    "import probscale\n",
    "import itertools\n",
    "import csv\n",
    "\n",
    "from pathlib import Path\n",
    "\n",
    "class Result:\n",
    "    def __init__(self, path):\n",
    "        self.path = Path(f\"results/{path}/flamestream\")\n",
    "    \n",
    "    def lat_data(self):\n",
    "        with open(self.path.joinpath(\"latency/lat.data\"), 'r') as file:\n",
    "            return list(map(int, file.read().split(\", \")))\n",
    "    \n",
    "    def notification_await_times(self):\n",
    "        with open(self.path.joinpath(\"notification_await_times.csv\"), 'r') as file:\n",
    "            return list(map(lambda row: int(row[0]) / 1E6, csv.reader(file)))\n",
    "        \n",
    "    def duration(self):\n",
    "        with open(self.path.joinpath(\"duration.txt\"), 'r') as file:\n",
    "            return int(file.read())\n",
    "        \n",
    "    def durations(self):\n",
    "        with open(self.path.joinpath(\"durations.txt\"), 'r') as file:\n",
    "            return list(map(int, file.read().split(\", \")))\n",
    "    \n",
    "    def throughput_hz(self, skip=0):\n",
    "        durations = self.durations()\n",
    "        return (len(durations) - skip) / (durations[-1] - durations[skip]) * 1E9\n",
    "\n",
    "    def plot_latencies_evolution(self, **kwargs):\n",
    "        plot_quantiles_evolution(self.lat_data(), **kwargs)\n",
    "        \n",
    "def plot_quantiles_evolution(data, window_size=100, q=0.95, stabilize=True):\n",
    "    quantiles = []\n",
    "    prev_quantile = None\n",
    "    is_stable = not stabilize\n",
    "    for window in each_slice(data, window_size):\n",
    "        quantile = np.quantile(window, q)\n",
    "        if is_stable:\n",
    "            quantiles.append(quantile)\n",
    "        elif prev_quantile and prev_quantile < quantile:\n",
    "            is_stable = True\n",
    "            quantiles.append(prev_quantile)\n",
    "            quantiles.append(quantile)\n",
    "        else:\n",
    "            prev_quantile = quantile\n",
    "        prev_window = window\n",
    "    if not is_stable:\n",
    "        raise \"has not stabilized\"\n",
    "    plt.plot(quantiles)\n",
    "        \n",
    "def results_path(parallelism=3, rate=5, watermarks=False):\n",
    "    return Path(f\"results/sigmod/parallelism={parallelism}/distributed_acker={False}/rate={rate}/watermarks={watermarks}/iterations=10/flamestream\")\n",
    "\n",
    "def plot_probabilities(results_by_legends, legend_title=None, plot_title=None):\n",
    "    fig, ax = plt.subplots(figsize=(10,10))\n",
    "    ax.legend(results_by_legends.keys(), title=legend_title)\n",
    "    for result in results_by_legends.values():\n",
    "        plt.plot(*probscale.plot_pos(result.lat_data()))\n",
    "    plt.xlabel('Percentile')\n",
    "    plt.ylabel('Latency, ns')\n",
    "    plt.title(plot_title)\n",
    "    plt.show()\n",
    "    \n",
    "def plot_percentile(percentile, results_by_rates):\n",
    "    fig, ax = plt.subplots(figsize=(10,10))\n",
    "    plt.plot(\n",
    "        results_by_rates.keys(),\n",
    "        [np.percentile(result.lat_data(), percentile) for result in results_by_rates.values()],\n",
    "        marker='o'\n",
    "    )\n",
    "    plt.xlabel('Rate')\n",
    "    plt.ylabel(f\"Latencies {percentile} percentile, ns\")\n",
    "    \n",
    "def plot_percentile_by_throughput(percentile, results):\n",
    "    plt.plot(*plottable_percentile_by_throughput(percentile, results))\n",
    "    \n",
    "def plottable_percentile_by_throughput(percentile, results):\n",
    "    return (\n",
    "        [result.throughput() for result in results],\n",
    "        [np.percentile(result.lat_data(), percentile) for result in results]\n",
    "    )\n",
    "\n",
    "def plot_throughput_by_number_of_iterations(results):\n",
    "    plt.plot(\n",
    "        [result.iterations for result in results],\n",
    "        [result.throughput() for result in results],\n",
    "    )\n",
    "    \n",
    "def show_max_throughput(result_factory, bad_rate, max_rate):\n",
    "    pass\n",
    "\n",
    "def plot_throughput_by_parallelism(results):\n",
    "    plt.plot(\n",
    "        [result.parallelism for result in results],\n",
    "        [result.throughput_hz() for result in results],\n",
    "    )\n",
    "    \n",
    "def plot_latencies_barh(results_by_labels, ax):\n",
    "    w = .70\n",
    "    ind_fs = [1, 2.0, 3.0]\n",
    "\n",
    "    def do_plot(q, c):\n",
    "        ax.barh(range(len(results_by_labels)), [np.percentile(result.lat_data(), q) for result in results_by_labels.values()], color=c, height=w, left=0)\n",
    "\n",
    "    do_plot(99, '.8')\n",
    "    do_plot(90, '.6')\n",
    "    do_plot(75, '.4')\n",
    "    do_plot(50, '.2')\n",
    "\n",
    "    plt.gca().invert_yaxis()\n",
    "\n",
    "    for tick in ax.xaxis.get_major_ticks(): tick.label.set_fontsize(60)\n",
    "\n",
    "    ax.set_yticklabels([])\n",
    "#     plt.xlim((0, np.percentile(latencies[8], 99) + 100))\n",
    "\n",
    "    ax.set_xlabel('Latency(ms)', fontsize=60)\n",
    "\n",
    "    for i, label in enumerate(results_by_labels):\n",
    "        ax.text(np.percentile(results_by_labels[label].lat_data(), 99) + 10, i, label, fontsize = 60)\n",
    "\n",
    "    patch_99 = mpatches.Patch(color='.8', label='99 %-ile')\n",
    "    patch_90 = mpatches.Patch(color='.6', label='95 %-ile')\n",
    "    patch_75 = mpatches.Patch(color='.4', label='75 %-ile')\n",
    "    patch_50 = mpatches.Patch(color='.2', label='50 %-ile')\n",
    "    ax.legend(handles=[patch_99, patch_90, patch_75, patch_50][::-1], fontsize = 60, frameon=False, bbox_to_anchor=(1, 1), ncol=1)\n",
    "\n",
    "    for spine in plt.gca().spines.values():\n",
    "        spine.set_visible(False)\n",
    "        \n",
    "def each_slice(generator, n):\n",
    "    group = []\n",
    "    for element in generator:\n",
    "        group.append(element)\n",
    "        if len(group) == n:\n",
    "            yield group\n",
    "            group = []\n",
    "\n",
    "    if group:\n",
    "        yield group"
   ]
  },
  {
   "cell_type": "code",
   "execution_count": 2,
   "metadata": {
    "pycharm": {
     "is_executing": false
    }
   },
   "outputs": [
    {
     "traceback": [
      "\u001b[0;31m---------------------------------------------------------------------------\u001b[0m",
      "\u001b[0;31mNameError\u001b[0m                                 Traceback (most recent call last)",
      "\u001b[0;32m<ipython-input-2-e963ab90b0f0>\u001b[0m in \u001b[0;36m<module>\u001b[0;34m()\u001b[0m\n\u001b[1;32m      4\u001b[0m         \u001b[0mpath\u001b[0m\u001b[0;34m=\u001b[0m\u001b[0;34mf\"sigmod.07.30.idle-cpu-level=5/iterations=100/rate=2/LOCAL_ACKER_FLUSH_COUNT={LOCAL_ACKER_FLUSH_COUNT}/LOCAL_ACKER_FLUSH_DELAY_IN_MILLIS=5\"\u001b[0m\u001b[0;34m\u001b[0m\u001b[0;34m\u001b[0m\u001b[0m\n\u001b[1;32m      5\u001b[0m     ).lat_data(), 0.5) / 1E6)\n\u001b[0;32m----> 6\u001b[0;31m     \u001b[0;32mfor\u001b[0m \u001b[0mLOCAL_ACKER_FLUSH_COUNT\u001b[0m \u001b[0;32min\u001b[0m \u001b[0;34m[\u001b[0m\u001b[0;36m500\u001b[0m\u001b[0;34m,\u001b[0m \u001b[0;36m1000\u001b[0m\u001b[0;34m,\u001b[0m \u001b[0;36m2000\u001b[0m\u001b[0;34m]\u001b[0m\u001b[0;34m\u001b[0m\u001b[0;34m\u001b[0m\u001b[0m\n\u001b[0m\u001b[1;32m      7\u001b[0m )), marker='o')\n\u001b[1;32m      8\u001b[0m \u001b[0;34m\u001b[0m\u001b[0m\n",
      "\u001b[0;32m<ipython-input-2-e963ab90b0f0>\u001b[0m in \u001b[0;36m<genexpr>\u001b[0;34m(.0)\u001b[0m\n\u001b[1;32m      4\u001b[0m         \u001b[0mpath\u001b[0m\u001b[0;34m=\u001b[0m\u001b[0;34mf\"sigmod.07.30.idle-cpu-level=5/iterations=100/rate=2/LOCAL_ACKER_FLUSH_COUNT={LOCAL_ACKER_FLUSH_COUNT}/LOCAL_ACKER_FLUSH_DELAY_IN_MILLIS=5\"\u001b[0m\u001b[0;34m\u001b[0m\u001b[0;34m\u001b[0m\u001b[0m\n\u001b[1;32m      5\u001b[0m     ).lat_data(), 0.5) / 1E6)\n\u001b[0;32m----> 6\u001b[0;31m     \u001b[0;32mfor\u001b[0m \u001b[0mLOCAL_ACKER_FLUSH_COUNT\u001b[0m \u001b[0;32min\u001b[0m \u001b[0;34m[\u001b[0m\u001b[0;36m500\u001b[0m\u001b[0;34m,\u001b[0m \u001b[0;36m1000\u001b[0m\u001b[0;34m,\u001b[0m \u001b[0;36m2000\u001b[0m\u001b[0;34m]\u001b[0m\u001b[0;34m\u001b[0m\u001b[0;34m\u001b[0m\u001b[0m\n\u001b[0m\u001b[1;32m      7\u001b[0m )), marker='o')\n\u001b[1;32m      8\u001b[0m \u001b[0;34m\u001b[0m\u001b[0m\n",
      "\u001b[0;31mNameError\u001b[0m: name 'Result' is not defined"
     ],
     "ename": "NameError",
     "evalue": "name 'Result' is not defined",
     "output_type": "error"
    }
   ],
   "source": [
    "plt.plot(*zip(*(\n",
    "    (LOCAL_ACKER_FLUSH_COUNT, np.quantile(Result(\n",
    "        path=f\"sigmod.07.30.idle-cpu-level=5/iterations=100/rate=2/LOCAL_ACKER_FLUSH_COUNT={LOCAL_ACKER_FLUSH_COUNT}/LOCAL_ACKER_FLUSH_DELAY_IN_MILLIS=5\"\n",
    "    ).lat_data(), 0.5) / 1E6)\n",
    "    for LOCAL_ACKER_FLUSH_COUNT in [500, 1000, 2000]\n",
    ")), marker='o')"
   ]
  },
  {
   "cell_type": "markdown",
   "metadata": {},
   "source": [
    "## Idle-cpu-level=5"
   ]
  },
  {
   "cell_type": "code",
   "execution_count": 4,
   "metadata": {},
   "outputs": [
    {
     "data": {
      "text/plain": [
       "<matplotlib.legend.Legend at 0x7f4f252ebe10>"
      ]
     },
     "execution_count": 4,
     "metadata": {},
     "output_type": "execute_result"
    },
    {
     "data": {
      "image/png": "[encoded data removed]",
      "text/plain": [
       "<Figure size 432x288 with 1 Axes>"
      ]
     },
     "metadata": {
      "needs_background": "light"
     },
     "output_type": "display_data"
    }
   ],
   "source": [
    "plt.legend([\n",
    "    plt.plot(*zip(*(\n",
    "        (rate, np.quantile(Result(\n",
    "            path=f\"sigmod.07.30.idle-cpu-level=5/iterations=100/rate={rate}/tracking_frequency=0/tracking=disabled\"\n",
    "        ).lat_data(), 0.5) / 1E6)\n",
    "        for rate in [2]\n",
    "    )), marker='o') and \"Disabled\",\n",
    "    plt.plot(*zip(*(\n",
    "        (rate, np.quantile(Result(\n",
    "            path=f\"sigmod.07.30.idle-cpu-level=5/iterations=100/rate={rate}/tracking_frequency=1/tracking=acking/distributed=False\"\n",
    "        ).lat_data(), 0.5) / 1E6)\n",
    "        for rate in [2]\n",
    "    )), marker='o') and \"Centralized acker\",\n",
    "    plt.plot(*zip(*(\n",
    "        (rate, np.quantile(Result(\n",
    "            path=f\"sigmod.07.30.idle-cpu-level=5/iterations=100/rate={rate}/tracking_frequency=1/tracking=acking/distributed=True\"\n",
    "        ).lat_data(), 0.5) / 1E6)\n",
    "        for rate in [2]\n",
    "    )), marker='o') and \"Distributed acker\",\n",
    "], title=\"Tracking\")"
   ]
  },
  {
   "cell_type": "code",
   "execution_count": 5,
   "metadata": {},
   "outputs": [
    {
     "data": {
      "text/plain": [
       "[<matplotlib.lines.Line2D at 0x7f4f25421550>]"
      ]
     },
     "execution_count": 5,
     "metadata": {},
     "output_type": "execute_result"
    },
    {
     "data": {
      "image/png": "[encoded data removed]",
      "text/plain": [
       "<Figure size 432x288 with 1 Axes>"
      ]
     },
     "metadata": {
      "needs_background": "light"
     },
     "output_type": "display_data"
    }
   ],
   "source": [
    "plt.plot(*zip(*(\n",
    "    (LOCAL_ACKER_FLUSH_COUNT, np.quantile(Result(\n",
    "        path=f\"sigmod.07.30.idle-cpu-level=5/iterations=100/rate=2/distributed=True/LOCAL_ACKER_FLUSH_COUNT={LOCAL_ACKER_FLUSH_COUNT}/LOCAL_ACKER_FLUSH_DELAY_IN_MILLIS=2\"\n",
    "    ).lat_data(), 0.5) / 1E6)\n",
    "    for LOCAL_ACKER_FLUSH_COUNT in [500, 1000, 2000]\n",
    ")), marker='o')"
   ]
  },
  {
   "cell_type": "code",
   "execution_count": 6,
   "metadata": {},
   "outputs": [
    {
     "data": {
      "text/plain": [
       "[<matplotlib.lines.Line2D at 0x7f4f252c37f0>]"
      ]
     },
     "execution_count": 6,
     "metadata": {},
     "output_type": "execute_result"
    },
    {
     "data": {
      "image/png": "[encoded data removed]",
      "text/plain": [
       "<Figure size 432x288 with 1 Axes>"
      ]
     },
     "metadata": {
      "needs_background": "light"
     },
     "output_type": "display_data"
    }
   ],
   "source": [
    "plt.plot(*zip(*(\n",
    "    (LOCAL_ACKER_FLUSH_DELAY_IN_MILLIS, np.quantile(Result(\n",
    "        path=f\"sigmod.07.30.idle-cpu-level=5/iterations=100/rate=2/distributed=True/LOCAL_ACKER_FLUSH_COUNT=500/LOCAL_ACKER_FLUSH_DELAY_IN_MILLIS={LOCAL_ACKER_FLUSH_DELAY_IN_MILLIS}\"\n",
    "    ).lat_data(), 0.5) / 1E6)\n",
    "    for LOCAL_ACKER_FLUSH_DELAY_IN_MILLIS in [2, 5]\n",
    ")), marker='o')"
   ]
  },
  {
   "cell_type": "code",
   "execution_count": null,
   "outputs": [],
   "source": [
    "plt.legend([\n",
    "    plt.plot(*zip(*(\n",
    "        (rate, np.quantile(Result(\n",
    "            path=f\"sigmod.09.17/iterations=50/rate={rate}/tracking_frequency=1/tracking=acking/distributed=False\"\n",
    "        ).notification_await_times(), 0.5))\n",
    "        for rate in [0.5, 0.6, 0.7, 0.8, 0.9, 1.0]\n",
    "    )), marker='o') and \"Centralized acker\",\n",
    "    plt.plot(*zip(*(\n",
    "        (rate, np.quantile(Result(\n",
    "            path=f\"sigmod.09.17/iterations=50/rate={rate}/tracking_frequency=1/tracking=acking/distributed=True\"\n",
    "        ).notification_await_times(), 0.5))\n",
    "        for rate in [0.5, 0.6, 0.7, 0.8, 0.9, 1.0]\n",
    "  )), marker='o') and \"Distributed acker\",\n",
    "], title=\"Tracking\")"
   ],
   "metadata": {
    "collapsed": false,
    "pycharm": {
     "name": "#%%\n"
    }
   }
  },
  {
   "cell_type": "code",
   "execution_count": 3,
   "metadata": {
    "pycharm": {
     "is_executing": false
    }
   },
   "outputs": [
    {
     "data": {
      "text/plain": "<matplotlib.legend.Legend at 0x11ef78b10>"
     },
     "metadata": {},
     "output_type": "execute_result",
     "execution_count": 3
    },
    {
     "data": {
      "text/plain": "<Figure size 432x288 with 1 Axes>",
      "image/png": "[encoded data removed]"
     },
     "metadata": {
      "needs_background": "light"
     },
     "output_type": "display_data"
    }
   ],
   "source": [
    "plt.legend([\n",
    "    plt.plot(*zip(*(\n",
    "        (rate, np.quantile(Result(\n",
    "            path=f\"sigmod.09.18/iterations=20/rate={rate}/tracking_frequency=1/tracking=acking/distributed=False\"\n",
    "        ).notification_await_times(), 0.5))\n",
    "        for rate in [0.26, 0.27, 0.28, 0.29, 0.3, 0.35, 0.4, 0.45, 0.45]\n",
    "    )), marker='o') and \"Centralized acker\",\n",
    "    plt.plot(*zip(*(\n",
    "        (rate, np.quantile(Result(\n",
    "            path=f\"sigmod.09.18/iterations=20/rate={rate}/tracking_frequency=1/tracking=acking/distributed=True\"\n",
    "        ).notification_await_times(), 0.5))\n",
    "        for rate in [0.2, 0.21, 0.25, 0.3, 0.35, 0.4, 0.45, 0.45]\n",
    "  )), marker='o') and \"Distributed acker\",\n",
    "], title=\"Tracking\")"
   ]
  },
  {
   "cell_type": "code",
   "execution_count": null,
   "metadata": {},
   "outputs": [],
   "source": []
  }
 ],
 "metadata": {
  "kernelspec": {
   "display_name": "Python 3",
   "language": "python",
   "name": "python3"
  },
  "language_info": {
   "codemirror_mode": {
    "name": "ipython",
    "version": 3
   },
   "file_extension": ".py",
   "mimetype": "text/x-python",
   "name": "python",
   "nbconvert_exporter": "python",
   "pygments_lexer": "ipython3",
   "version": "3.6.8"
  },
  "pycharm": {
   "stem_cell": {
    "cell_type": "raw",
    "source": [],
    "metadata": {
     "collapsed": false
    }
   }
  }
 },
 "nbformat": 4,
 "nbformat_minor": 4
}