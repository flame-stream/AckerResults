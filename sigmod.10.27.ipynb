{
 "cells": [
  {
   "cell_type": "code",
   "execution_count": 2,
   "metadata": {
    "pycharm": {
     "is_executing": false
    }
   },
   "outputs": [],
   "source": [
    "import os\n",
    "from collections import Counter, defaultdict\n",
    "\n",
    "import pandas as pd\n",
    "import matplotlib\n",
    "import matplotlib.pyplot as plt\n",
    "import matplotlib.patches as mpatches\n",
    "import numpy as np\n",
    "import probscale\n",
    "import itertools\n",
    "import csv\n",
    "\n",
    "from pathlib import Path\n",
    "\n",
    "plt.rcParams.update({'font.size': 14, 'figure.autolayout': True})\n",
    "\n",
    "class Result:\n",
    "    def __init__(self, path):\n",
    "        self.path = Path(\"results\").joinpath(path, \"flamestream\")\n",
    "    \n",
    "    def lat_data(self):\n",
    "        with open(self.path.joinpath(\"latency/lat.data\"), 'r') as file:\n",
    "            return list(filter(lambda x: x > 0, map(lambda x: int(x) / 1E9, file.read().split(\", \"))))\n",
    "    \n",
    "    def notification_await_times(self):\n",
    "        with open(self.path.joinpath(\"notification_await_times.csv\"), 'r') as file:\n",
    "            return list(map(lambda row: int(row[0]) / 1E6, csv.reader(file)))\n",
    "        \n",
    "    def duration(self):\n",
    "        with open(self.path.joinpath(\"duration.txt\"), 'r') as file:\n",
    "            return int(file.read())\n",
    "        \n",
    "    def durations(self):\n",
    "        with open(self.path.joinpath(\"durations.txt\"), 'r') as file:\n",
    "            return list(map(int, file.read().split(\", \")))\n",
    "    \n",
    "    def throughput_hz(self, skip=0):\n",
    "        durations = self.durations()\n",
    "        return (len(durations) - skip) / (durations[-1] - durations[skip]) * 1E9\n",
    "\n",
    "    def plot_latencies_evolution(self, **kwargs):\n",
    "        plot_quantiles_evolution(self.lat_data(), **kwargs)\n",
    "        \n",
    "    def acker(self):\n",
    "        partitions = [\n",
    "            dict([line.split(\" = \") for line in Path(path).read_text().splitlines()])\n",
    "            for path in self.path.glob('acker/*')\n",
    "        ]\n",
    "        keys = sum(tuple(map(lambda partition: tuple(partition.keys()), partitions)), ())\n",
    "        return defaultdict(lambda: 0, {\n",
    "          key: sum(int(partition[key]) for partition in partitions)\n",
    "          for key in keys\n",
    "        })\n",
    "    \n",
    "    def min_time_updates_sent(self):\n",
    "      return self.acker()['minTimeUpdatesSent'] * self.vars()['parallelism']\n",
    "    \n",
    "    def traffic(self):\n",
    "        acker = self.acker()\n",
    "        vars = self.vars()\n",
    "        return acker.get('bufferedMessagesHandled', 0) + self.min_time_updates_sent() +\\\n",
    "          (acker['acksReceived'] + acker['heartbeatsReceived']\n",
    "           if vars['worker_environment']['LOCAL_ACKER_FLUSH_COUNT'] == 0\n",
    "           else 0)\\\n",
    "               + self.class_addressed_items_number().get('com.spbsu.flamestream.example.bl.WatermarksVsAckerGraph.Watermark', 0)\n",
    "    \n",
    "    def vars(self):\n",
    "      return json.loads(self.path.joinpath(\"../vars.json\").read_text())\n",
    "    \n",
    "    def class_addressed_items_number(self):\n",
    "        partitions = [\n",
    "            dict([line.split(\",\") for line in Path(path).read_text().splitlines()])\n",
    "            for path in self.path.glob('class_addressed_items_number/*')\n",
    "        ]\n",
    "        keys = sum(tuple(map(lambda partition: tuple(partition.keys()), partitions)), ())\n",
    "        return {\n",
    "          key: sum(int(partition.get(key, 0)) for partition in partitions)\n",
    "          for key in keys\n",
    "        }\n",
    "    \n",
    "    def snapshots(self):\n",
    "        partitions = [\n",
    "            dict([line.split(\",\") for line in Path(path).read_text().splitlines()])\n",
    "            for path in self.path.glob('snapshots/*.csv')\n",
    "        ]\n",
    "        keys = sum(tuple(map(lambda partition: tuple(partition.keys()), partitions)), ())\n",
    "        return defaultdict(lambda: 0, {\n",
    "          key: sum(int(partition[key]) for partition in partitions)\n",
    "          for key in keys\n",
    "        })\n",
    "    \n",
    "    def snapshot_duration(self):\n",
    "      return self.vars()['worker_environment']['SNAPSHOTS_DURATION_MS']\n",
    "        \n",
    "    def last_in_window_notification_await_times(self):\n",
    "      return [min(slice) for slice in each_slice(\n",
    "        self.notification_await_times(),\n",
    "        self.vars()['tracking_frequency'] * self.vars()['parallelism'],\n",
    "      )]\n",
    "        \n",
    "def plot_quantiles_evolution(data, window_size=100, q=0.95, stabilize=True):\n",
    "    quantiles = []\n",
    "    prev_quantile = None\n",
    "    is_stable = not stabilize\n",
    "    for window in each_slice(data, window_size):\n",
    "        quantile = np.quantile(window, q)\n",
    "        if is_stable:\n",
    "            quantiles.append(quantile)\n",
    "        elif prev_quantile and prev_quantile < quantile:\n",
    "            is_stable = True\n",
    "            quantiles.append(prev_quantile)\n",
    "            quantiles.append(quantile)\n",
    "        else:\n",
    "            prev_quantile = quantile\n",
    "        prev_window = window\n",
    "    if not is_stable:\n",
    "        raise \"has not stabilized\"\n",
    "    plt.plot(quantiles)\n",
    "        \n",
    "def results_path(parallelism=3, rate=5, watermarks=False):\n",
    "    return Path(f\"results/sigmod/parallelism={parallelism}/distributed_acker={False}/rate={rate}/watermarks={watermarks}/iterations=10/flamestream\")\n",
    "\n",
    "def plot_probabilities(results_by_legends, legend_title=None, plot_title=None):\n",
    "    fig, ax = plt.subplots(figsize=(10,10))\n",
    "    ax.legend(results_by_legends.keys(), title=legend_title)\n",
    "    for result in results_by_legends.values():\n",
    "        plt.plot(*probscale.plot_pos(result.lat_data()))\n",
    "    plt.xlabel('Percentile')\n",
    "    plt.ylabel('Latency, ns')\n",
    "    plt.title(plot_title)\n",
    "    plt.show()\n",
    "    \n",
    "def plot_percentile(percentile, results_by_rates):\n",
    "    fig, ax = plt.subplots(figsize=(10,10))\n",
    "    plt.plot(\n",
    "        results_by_rates.keys(),\n",
    "        [np.percentile(result.lat_data(), percentile) for result in results_by_rates.values()],\n",
    "        marker='o'\n",
    "    )\n",
    "    plt.xlabel('Rate')\n",
    "    plt.ylabel(f\"Latencies {percentile} percentile, ns\")\n",
    "    \n",
    "def plot_percentile_by_throughput(percentile, results):\n",
    "    plt.plot(*plottable_percentile_by_throughput(percentile, results))\n",
    "    \n",
    "def plottable_percentile_by_throughput(percentile, results):\n",
    "    return (\n",
    "        [result.throughput() for result in results],\n",
    "        [np.percentile(result.lat_data(), percentile) for result in results]\n",
    "    )\n",
    "\n",
    "def plot_throughput_by_number_of_iterations(results):\n",
    "    plt.plot(\n",
    "        [result.iterations for result in results],\n",
    "        [result.throughput() for result in results],\n",
    "    )\n",
    "    \n",
    "def show_max_throughput(result_factory, bad_rate, max_rate):\n",
    "    pass\n",
    "\n",
    "def plot_throughput_by_parallelism(results):\n",
    "    plt.plot(\n",
    "        [result.parallelism for result in results],\n",
    "        [result.throughput_hz() for result in results],\n",
    "    )\n",
    "    \n",
    "def plot_latencies_barh(results_by_labels, ax):\n",
    "    w = .70\n",
    "    ind_fs = [1, 2.0, 3.0]\n",
    "\n",
    "    def do_plot(q, c):\n",
    "        ax.barh(range(len(results_by_labels)), [np.percentile(result.lat_data(), q) for result in results_by_labels.values()], color=c, height=w, left=0)\n",
    "\n",
    "    do_plot(99, '.8')\n",
    "    do_plot(90, '.6')\n",
    "    do_plot(75, '.4')\n",
    "    do_plot(50, '.2')\n",
    "\n",
    "    plt.gca().invert_yaxis()\n",
    "\n",
    "    for tick in ax.xaxis.get_major_ticks(): tick.label.set_fontsize(60)\n",
    "\n",
    "    ax.set_yticklabels([])\n",
    "#     plt.xlim((0, np.percentile(latencies[8], 99) + 100))\n",
    "\n",
    "    ax.set_xlabel('Latency(ms)', fontsize=60)\n",
    "\n",
    "    for i, label in enumerate(results_by_labels):\n",
    "        ax.text(np.percentile(results_by_labels[label].lat_data(), 99) + 10, i, label, fontsize = 60)\n",
    "\n",
    "    patch_99 = mpatches.Patch(color='.8', label='99 %-ile')\n",
    "    patch_90 = mpatches.Patch(color='.6', label='95 %-ile')\n",
    "    patch_75 = mpatches.Patch(color='.4', label='75 %-ile')\n",
    "    patch_50 = mpatches.Patch(color='.2', label='50 %-ile')\n",
    "    ax.legend(handles=[patch_99, patch_90, patch_75, patch_50][::-1], fontsize = 60, frameon=False, bbox_to_anchor=(1, 1), ncol=1)\n",
    "\n",
    "    for spine in plt.gca().spines.values():\n",
    "        spine.set_visible(False)\n",
    "        \n",
    "def each_slice(generator, n):\n",
    "    group = []\n",
    "    for element in generator:\n",
    "        group.append(element)\n",
    "        if len(group) == n:\n",
    "            yield group\n",
    "            group = []\n",
    "\n",
    "    if group:\n",
    "        yield group\n",
    "\n",
    "fig = plt.gcf()"
   ]
  },
  {
   "cell_type": "code",
   "execution_count": 3,
   "metadata": {
    "pycharm": {
     "is_executing": false
    }
   },
   "outputs": [],
   "source": [
    "from glob import glob\n",
    "import json\n",
    "from pathlib import Path\n",
    "\n",
    "all_results = [\n",
    "  Result(Path(path).absolute())\n",
    "  for path in glob('results/sigmod.10.27/*')\n",
    "  if Path(path).joinpath(\"vars.json\").exists()\n",
    "]\n",
    "\n",
    "def result_grouper_key(result):\n",
    "  return (\n",
    "    result.vars()['tracking'],\n",
    "    result.vars().get('distributed_acker'),\n",
    "    result.vars()['worker_environment']['LOCAL_ACKER_FLUSH_COUNT'],\n",
    "  )\n",
    "\n",
    "tracking_results = {\n",
    "  'Markers' if tracking == 'watermarking' else\n",
    "  'Disabled' if tracking == 'disabled' else\n",
    "    (\"trAcker\"):\n",
    "        list(results)\n",
    "    for (tracking, distributed_acker, local_acker_flush_count), results in itertools.groupby(\n",
    "      sorted([\n",
    "        result\n",
    "        for result in all_results\n",
    "      ], key=result_grouper_key),\n",
    "      key=result_grouper_key,\n",
    "    )\n",
    "}"
   ]
  },
  {
   "cell_type": "code",
   "execution_count": 4,
   "outputs": [
    {
     "data": {
      "text/plain": "{'Markers': [defaultdict(<function __main__.Result.snapshots.<locals>.<lambda>>,\n              {'buffering_duration': 1727755422977,\n               'buffered_count': 13661,\n               0: 0}),\n  defaultdict(<function __main__.Result.snapshots.<locals>.<lambda>>,\n              {'buffering_duration': 38708249297808,\n               'buffered_count': 71704,\n               0: 0}),\n  defaultdict(<function __main__.Result.snapshots.<locals>.<lambda>>,\n              {'buffering_duration': 10541689923583,\n               'buffered_count': 36434,\n               0: 0})],\n 'trAcker': [defaultdict(<function __main__.Result.snapshots.<locals>.<lambda>>,\n              {'buffering_duration': 184460254173,\n               'buffered_count': 168,\n               0: 0}),\n  defaultdict(<function __main__.Result.snapshots.<locals>.<lambda>>,\n              {'buffering_duration': 111849494379,\n               'buffered_count': 410,\n               0: 0}),\n  defaultdict(<function __main__.Result.snapshots.<locals>.<lambda>>,\n              {'buffering_duration': 1105903192, 'buffered_count': 10, 0: 0})]}"
     },
     "metadata": {},
     "output_type": "execute_result",
     "execution_count": 4
    }
   ],
   "source": [
    "{\n",
    "  legend: sorted([\n",
    "    (result.snapshots())\n",
    "    for result in results\n",
    "    # if result.vars()['iterations'] == 100\n",
    "    #     and result.vars()['parallelism'] == 15\n",
    "  ], key=lambda tuple: tuple[0])\n",
    "  for legend, results in tracking_results.items()\n",
    "}"
   ],
   "metadata": {
    "collapsed": false,
    "pycharm": {
     "name": "#%%\n",
     "is_executing": false
    }
   }
  },
  {
   "cell_type": "code",
   "execution_count": 5,
   "outputs": [
    {
     "name": "stderr",
     "text": [
      "/usr/local/lib/python3.7/site-packages/matplotlib/figure.py:2366: UserWarning: This figure includes Axes that are not compatible with tight_layout, so results might be incorrect.\n  warnings.warn(\"This figure includes Axes that are not compatible \"\n"
     ],
     "output_type": "stream"
    },
    {
     "data": {
      "text/plain": "<Figure size 432x288 with 1 Axes>",
      "image/png": "[encoded data removed]"
     },
     "metadata": {
      "needs_background": "light"
     },
     "output_type": "display_data"
    },
    {
     "data": {
      "text/plain": "<Figure size 432x288 with 0 Axes>"
     },
     "metadata": {},
     "output_type": "display_data"
    }
   ],
   "source": [
    "fig = plt.gcf()\n",
    "plt.legend([\n",
    "  plt.plot(*zip(*sorted([\n",
    "    (\n",
    "      result.vars()['worker_environment']['SNAPSHOTS_DURATION_MS'],\n",
    "      result.snapshots()['buffering_duration'] / 1E9,\n",
    "    )\n",
    "    for result in results\n",
    "    if result.vars()['iterations'] == 30\n",
    "        and result.vars()['parallelism'] == 15\n",
    "  ])), marker='o') and legend\n",
    "  for legend, results in tracking_results.items()\n",
    "], title='Tracking')\n",
    "plt.xlabel('Snapshot duration')\n",
    "plt.ylabel('Sum buffering duration (s)')\n",
    "plt.show()\n",
    "plt.draw()\n",
    "fig.savefig('buffering_sum_duration.png')\n",
    "None"
   ],
   "metadata": {
    "collapsed": false,
    "pycharm": {
     "name": "#%%\n",
     "is_executing": false
    }
   }
  },
  {
   "cell_type": "code",
   "execution_count": 6,
   "outputs": [
    {
     "name": "stderr",
     "text": [
      "/usr/local/lib/python3.7/site-packages/matplotlib/figure.py:2366: UserWarning: This figure includes Axes that are not compatible with tight_layout, so results might be incorrect.\n  warnings.warn(\"This figure includes Axes that are not compatible \"\n"
     ],
     "output_type": "stream"
    },
    {
     "data": {
      "text/plain": "<Figure size 432x288 with 1 Axes>",
      "image/png": "[encoded data removed]"
     },
     "metadata": {
      "needs_background": "light"
     },
     "output_type": "display_data"
    },
    {
     "data": {
      "text/plain": "<Figure size 432x288 with 0 Axes>"
     },
     "metadata": {},
     "output_type": "display_data"
    }
   ],
   "source": [
    "fig = plt.gcf()\n",
    "plt.legend([\n",
    "  plt.plot(*zip(*sorted([\n",
    "    (\n",
    "      result.vars()['worker_environment']['SNAPSHOTS_DURATION_MS'],\n",
    "      result.snapshots()['buffering_duration'] / result.snapshots()['buffered_count'] / 1E9,\n",
    "    )\n",
    "    for result in results\n",
    "    if result.vars()['iterations'] == 30\n",
    "        and result.vars()['parallelism'] == 15\n",
    "  ])), marker='o') and legend\n",
    "  for legend, results in tracking_results.items()\n",
    "], title='Tracking')\n",
    "plt.xlabel('Snapshot duration')\n",
    "plt.ylabel('Average buffering duration (s)')\n",
    "plt.show()\n",
    "plt.draw()\n",
    "fig.savefig('buffering_average_duration.png')\n",
    "None"
   ],
   "metadata": {
    "collapsed": false,
    "pycharm": {
     "name": "#%%\n",
     "is_executing": false
    }
   }
  },
  {
   "cell_type": "code",
   "execution_count": 7,
   "outputs": [
    {
     "name": "stderr",
     "text": [
      "/usr/local/lib/python3.7/site-packages/matplotlib/figure.py:2366: UserWarning: This figure includes Axes that are not compatible with tight_layout, so results might be incorrect.\n  warnings.warn(\"This figure includes Axes that are not compatible \"\n"
     ],
     "output_type": "stream"
    },
    {
     "data": {
      "text/plain": "<Figure size 432x288 with 1 Axes>",
      "image/png": "[encoded data removed]"
     },
     "metadata": {
      "needs_background": "light"
     },
     "output_type": "display_data"
    },
    {
     "data": {
      "text/plain": "<Figure size 432x288 with 0 Axes>"
     },
     "metadata": {},
     "output_type": "display_data"
    }
   ],
   "source": [
    "fig = plt.gcf()\n",
    "plt.legend([\n",
    "  plt.plot(*zip(*sorted([\n",
    "    (result.vars()['worker_environment']['SNAPSHOTS_DURATION_MS'], result.snapshots()['buffered_count'])\n",
    "    for result in results\n",
    "    if result.vars()['iterations'] == 30\n",
    "        and result.vars()['parallelism'] == 15\n",
    "  ])), marker='o') and legend\n",
    "  for legend, results in tracking_results.items()\n",
    "], title='Tracking')\n",
    "plt.xlabel('Snapshot duration')\n",
    "plt.ylabel('Buffered elements count')\n",
    "plt.show()\n",
    "plt.draw()\n",
    "fig.savefig('buffering_count.png')\n",
    "None"
   ],
   "metadata": {
    "collapsed": false,
    "pycharm": {
     "name": "#%%\n",
     "is_executing": false
    }
   }
  },
  {
   "cell_type": "code",
   "execution_count": 8,
   "outputs": [
    {
     "name": "stderr",
     "text": [
      "/usr/local/lib/python3.7/site-packages/matplotlib/figure.py:2366: UserWarning: This figure includes Axes that are not compatible with tight_layout, so results might be incorrect.\n  warnings.warn(\"This figure includes Axes that are not compatible \"\n"
     ],
     "output_type": "stream"
    },
    {
     "data": {
      "text/plain": "<Figure size 432x288 with 1 Axes>",
      "image/png": "[encoded data removed]"
     },
     "metadata": {
      "needs_background": "light"
     },
     "output_type": "display_data"
    },
    {
     "data": {
      "text/plain": "<Figure size 432x288 with 0 Axes>"
     },
     "metadata": {},
     "output_type": "display_data"
    }
   ],
   "source": [
    "plt.legend([\n",
    "  plot_quantiles_evolution(result.lat_data(), q=0.5) or result.snapshot_duration()\n",
    "  for result in sorted(tracking_results['trAcker'], key=lambda result: result.snapshot_duration())\n",
    "], title='Snapshot duration')\n",
    "plt.xticks([])\n",
    "plt.xlabel('Element number')\n",
    "plt.ylabel('Latencies (ms)')\n",
    "plt.show()\n",
    "plt.draw()\n",
    "fig.savefig('buffering_latencies_evolution_acker.png')\n",
    "None"
   ],
   "metadata": {
    "collapsed": false,
    "pycharm": {
     "name": "#%%\n",
     "is_executing": false
    }
   }
  },
  {
   "cell_type": "code",
   "execution_count": null,
   "outputs": [],
   "source": [
    "plt.legend([\n",
    "  plot_quantiles_evolution(result.lat_data(), q=0.5) or result.snapshot_duration()\n",
    "  for result in sorted(tracking_results['Markers'], key=lambda result: result.snapshot_duration())\n",
    "], title='Snapshot duration')\n",
    "plt.xticks([])\n",
    "plt.xlabel('Element number')\n",
    "plt.ylabel('Latencies (ms)')\n",
    "plt.show()\n",
    "plt.draw()\n",
    "fig.savefig('buffering_latencies_evolution_watermarks.png')\n",
    "None"
   ],
   "metadata": {
    "collapsed": false,
    "pycharm": {
     "name": "#%%\n"
    }
   }
  },
  {
   "cell_type": "code",
   "execution_count": 10,
   "outputs": [
    {
     "name": "stderr",
     "text": [
      "/usr/local/lib/python3.7/site-packages/matplotlib/figure.py:2366: UserWarning: This figure includes Axes that are not compatible with tight_layout, so results might be incorrect.\n  warnings.warn(\"This figure includes Axes that are not compatible \"\n"
     ],
     "output_type": "stream"
    },
    {
     "data": {
      "text/plain": "<Figure size 432x288 with 1 Axes>",
      "image/png": "[encoded data removed]"
     },
     "metadata": {
      "needs_background": "light"
     },
     "output_type": "display_data"
    }
   ],
   "source": [
    "fig = plt.gcf()\n",
    "plt.legend([\n",
    "  plot_quantiles_evolution(result.lat_data(), q=0.5) or legend\n",
    "  for legend, results in tracking_results.items()\n",
    "  for result in results\n",
    "  if result.vars()['worker_environment']['SNAPSHOTS_DURATION_MS'] == 100\n",
    "])\n",
    "None"
   ],
   "metadata": {
    "collapsed": false,
    "pycharm": {
     "name": "#%%\n",
     "is_executing": false
    }
   }
  },
  {
   "cell_type": "code",
   "execution_count": 11,
   "outputs": [
    {
     "name": "stderr",
     "text": [
      "/usr/local/lib/python3.7/site-packages/matplotlib/figure.py:2366: UserWarning: This figure includes Axes that are not compatible with tight_layout, so results might be incorrect.\n  warnings.warn(\"This figure includes Axes that are not compatible \"\n"
     ],
     "output_type": "stream"
    },
    {
     "data": {
      "text/plain": "<Figure size 432x288 with 1 Axes>",
      "image/png": "[encoded data removed]"
     },
     "metadata": {
      "needs_background": "light"
     },
     "output_type": "display_data"
    }
   ],
   "source": [
    "fig = plt.gcf()\n",
    "plt.legend([\n",
    "  plot_quantiles_evolution(result.lat_data(), q=0.5) or legend\n",
    "  for legend, results in tracking_results.items()\n",
    "  for result in results\n",
    "  if result.vars()['worker_environment']['SNAPSHOTS_DURATION_MS'] == 250\n",
    "])\n",
    "None"
   ],
   "metadata": {
    "collapsed": false,
    "pycharm": {
     "name": "#%%\n",
     "is_executing": false
    }
   }
  },
  {
   "cell_type": "code",
   "execution_count": null,
   "outputs": [],
   "source": [
    "fig = plt.gcf()\n",
    "plt.legend([\n",
    "  plot_quantiles_evolution(result.lat_data(), q=0.5) or legend\n",
    "  for legend, results in tracking_results.items()\n",
    "  for result in results\n",
    "  if result.vars()['worker_environment']['SNAPSHOTS_DURATION_MS'] == 500\n",
    "])\n",
    "None"
   ],
   "metadata": {
    "collapsed": false,
    "pycharm": {
     "name": "#%%\n"
    }
   }
  },
  {
   "cell_type": "code",
   "execution_count": 12,
   "outputs": [
    {
     "name": "stderr",
     "text": [
      "/usr/local/lib/python3.7/site-packages/matplotlib/figure.py:2366: UserWarning: This figure includes Axes that are not compatible with tight_layout, so results might be incorrect.\n  warnings.warn(\"This figure includes Axes that are not compatible \"\n"
     ],
     "output_type": "stream"
    },
    {
     "data": {
      "text/plain": "<Figure size 432x288 with 1 Axes>",
      "image/png": "[encoded data removed]"
     },
     "metadata": {
      "needs_background": "light"
     },
     "output_type": "display_data"
    }
   ],
   "source": [
    "fig = plt.gcf()\n",
    "plt.legend([\n",
    "  plot_quantiles_evolution(result.lat_data(), q=0.5) or legend\n",
    "  for legend, results in tracking_results.items()\n",
    "  for result in results\n",
    "  if result.vars()['worker_environment']['SNAPSHOTS_DURATION_MS'] == 500\n",
    "])\n",
    "None"
   ],
   "metadata": {
    "collapsed": false,
    "pycharm": {
     "name": "#%%\n",
     "is_executing": false
    }
   }
  },
  {
   "cell_type": "code",
   "execution_count": 13,
   "outputs": [
    {
     "data": {
      "text/plain": "{'Markers': {0.5: 0.0558871955,\n  0.75: 0.06047116500000001,\n  0.9: 0.0661403857,\n  0.99: 3.1845822140600015},\n 'trAcker': {0.5: 0.0591097655,\n  0.75: 0.0643980445,\n  0.9: 0.0701683318,\n  0.99: 2.5599275175300034}}"
     },
     "metadata": {},
     "output_type": "execute_result",
     "execution_count": 13
    }
   ],
   "source": [
    "{\n",
    "  legend: {\n",
    "    quantile: np.quantile(result.lat_data(), quantile)\n",
    "      for quantile in [0.5, 0.75, 0.90, 0.99]\n",
    "  }\n",
    "  for legend, results in tracking_results.items()\n",
    "  for result in results\n",
    "  if result.vars()['worker_environment']['SNAPSHOTS_DURATION_MS'] == 100\n",
    "}"
   ],
   "metadata": {
    "collapsed": false,
    "pycharm": {
     "name": "#%%\n",
     "is_executing": false
    }
   }
  },
  {
   "cell_type": "code",
   "execution_count": 14,
   "outputs": [
    {
     "data": {
      "text/plain": "{'Markers': {0.5: 0.057424886,\n  0.75: 0.06270371749999999,\n  0.9: 0.198153286,\n  0.99: 8.667942117110004},\n 'trAcker': {0.5: 0.059218100999999995,\n  0.75: 0.06546039399999999,\n  0.9: 0.0826986819,\n  0.99: 7.70509515515}}"
     },
     "metadata": {},
     "output_type": "execute_result",
     "execution_count": 14
    }
   ],
   "source": [
    "{\n",
    "  legend: {\n",
    "    quantile: np.quantile(result.lat_data(), quantile)\n",
    "      for quantile in [0.5, 0.75, 0.90, 0.99]\n",
    "  }\n",
    "  for legend, results in tracking_results.items()\n",
    "  for result in results\n",
    "  if result.vars()['worker_environment']['SNAPSHOTS_DURATION_MS'] == 250\n",
    "}"
   ],
   "metadata": {
    "collapsed": false,
    "pycharm": {
     "name": "#%%\n",
     "is_executing": false
    }
   }
  },
  {
   "cell_type": "code",
   "execution_count": 15,
   "outputs": [
    {
     "data": {
      "text/plain": "{'Markers': {0.5: 0.059457731,\n  0.75: 0.07676080075,\n  0.9: 5.173851947199999,\n  0.99: 9.221705000130001},\n 'trAcker': {0.5: 0.0605321115,\n  0.75: 0.07077625074999999,\n  0.9: 4.358249239999998,\n  0.99: 8.266938227190002}}"
     },
     "metadata": {},
     "output_type": "execute_result",
     "execution_count": 15
    }
   ],
   "source": [
    "{\n",
    "  legend: {\n",
    "    quantile: np.quantile(result.lat_data()[4500:9000], quantile)\n",
    "      for quantile in [0.5, 0.75, 0.90, 0.99]\n",
    "  }\n",
    "  for legend, results in tracking_results.items()\n",
    "  for result in results\n",
    "  if result.vars()['worker_environment']['SNAPSHOTS_DURATION_MS'] == 250\n",
    "}"
   ],
   "metadata": {
    "collapsed": false,
    "pycharm": {
     "name": "#%%\n",
     "is_executing": false
    }
   }
  },
  {
   "cell_type": "code",
   "execution_count": 16,
   "outputs": [
    {
     "data": {
      "text/plain": "{'Markers': {0.5: 0.057224099,\n  0.75: 0.06643390824999999,\n  0.9: 8.120337971500003,\n  0.99: 17.126164741190003},\n 'trAcker': {0.5: 0.0615275,\n  0.75: 0.070247656,\n  0.9: 7.7411561843,\n  0.99: 16.60811271601}}"
     },
     "metadata": {},
     "output_type": "execute_result",
     "execution_count": 16
    }
   ],
   "source": [
    "{\n",
    "  legend: {\n",
    "    quantile: np.quantile(result.lat_data(), quantile)\n",
    "      for quantile in [0.5, 0.75, 0.90, 0.99]\n",
    "  }\n",
    "  for legend, results in tracking_results.items()\n",
    "  for result in results\n",
    "  if result.vars()['worker_environment']['SNAPSHOTS_DURATION_MS'] == 500\n",
    "}\n"
   ],
   "metadata": {
    "collapsed": false,
    "pycharm": {
     "name": "#%%\n",
     "is_executing": false
    }
   }
  }
 ],
 "metadata": {
  "kernelspec": {
   "display_name": "Python 3",
   "language": "python",
   "name": "python3"
  },
  "language_info": {
   "codemirror_mode": {
    "name": "ipython",
    "version": 3
   },
   "file_extension": ".py",
   "mimetype": "text/x-python",
   "name": "python",
   "nbconvert_exporter": "python",
   "pygments_lexer": "ipython3",
   "version": "3.6.8"
  },
  "pycharm": {
   "stem_cell": {
    "cell_type": "raw",
    "source": [],
    "metadata": {
     "collapsed": false
    }
   }
  }
 },
 "nbformat": 4,
 "nbformat_minor": 4
}